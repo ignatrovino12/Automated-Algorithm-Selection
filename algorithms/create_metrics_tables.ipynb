{
 "cells": [
  {
   "cell_type": "code",
   "execution_count": 1,
   "metadata": {},
   "outputs": [],
   "source": [
    "import sqlite3\n",
    "\n",
    "def create_tables(db_file):\n",
    "    conn = sqlite3.connect(db_file)\n",
    "    cursor = conn.cursor()\n",
    "\n",
    "    # Algortithm parameters table\n",
    "    cursor.execute(\"\"\"\n",
    "        CREATE TABLE IF NOT EXISTS algorithms (\n",
    "            instance_id INTEGER,\n",
    "            strategy TEXT,\n",
    "            optimal_cost REAL,\n",
    "            time_taken REAL,\n",
    "            load_balancing REAL,\n",
    "            PRIMARY KEY (instance_id, strategy)\n",
    "        )\n",
    "    \"\"\")\n",
    "\n",
    "    # Routes table\n",
    "    cursor.execute(\"\"\"\n",
    "        CREATE TABLE IF NOT EXISTS routes (\n",
    "            instance_id INTEGER,\n",
    "            strategy TEXT,\n",
    "            salesman_id INTEGER,\n",
    "            route TEXT,\n",
    "            PRIMARY KEY (instance_id, strategy, salesman_id)\n",
    "        )\n",
    "    \"\"\")\n",
    "\n",
    "    conn.commit()\n",
    "    conn.close()\n",
    "\n",
    "create_tables(db_file=\"../train_mTSP.sqlite3\")"
   ]
  }
 ],
 "metadata": {
  "kernelspec": {
   "display_name": "Python 3",
   "language": "python",
   "name": "python3"
  },
  "language_info": {
   "codemirror_mode": {
    "name": "ipython",
    "version": 3
   },
   "file_extension": ".py",
   "mimetype": "text/x-python",
   "name": "python",
   "nbconvert_exporter": "python",
   "pygments_lexer": "ipython3",
   "version": "3.9.0"
  }
 },
 "nbformat": 4,
 "nbformat_minor": 2
}
